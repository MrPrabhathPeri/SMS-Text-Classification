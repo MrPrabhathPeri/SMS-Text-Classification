{
  "cells": [
    {
      "cell_type": "markdown",
      "metadata": {
        "id": "view-in-github",
        "colab_type": "text"
      },
      "source": [
        "<a href=\"https://colab.research.google.com/github/MrPrabhathPeri/SMS-Text-Classification/blob/main/sms_text_classification.ipynb\" target=\"_parent\"><img src=\"https://colab.research.google.com/assets/colab-badge.svg\" alt=\"Open In Colab\"/></a>"
      ]
    },
    {
      "cell_type": "code",
      "execution_count": null,
      "metadata": {
        "id": "8RZOuS9LWQvv"
      },
      "outputs": [],
      "source": [
        "# import libraries\n",
        "try:\n",
        "  # %tensorflow_version only exists in Colab.\n",
        "  !pip install tf-nightly\n",
        "except Exception:\n",
        "  pass\n",
        "import tensorflow as tf\n",
        "import pandas as pd\n",
        "from tensorflow import keras\n",
        "!pip install tensorflow-datasets\n",
        "import tensorflow_datasets as tfds\n",
        "import numpy as np\n",
        "import matplotlib.pyplot as plt\n",
        "\n",
        "print(tf.__version__)"
      ]
    },
    {
      "cell_type": "code",
      "execution_count": null,
      "metadata": {
        "id": "lMHwYXHXCar3"
      },
      "outputs": [],
      "source": [
        "# get data files\n",
        "!wget https://cdn.freecodecamp.org/project-data/sms/train-data.tsv\n",
        "!wget https://cdn.freecodecamp.org/project-data/sms/valid-data.tsv\n",
        "\n",
        "train_file_path = \"train-data.tsv\"\n",
        "test_file_path = \"valid-data.tsv\""
      ]
    },
    {
      "cell_type": "code",
      "execution_count": null,
      "metadata": {
        "id": "g_h508FEClxO"
      },
      "outputs": [],
      "source": [
        "# Load the dataset\n",
        "train_dataset_path = \"train-data.tsv\"\n",
        "test_dataset_path = \"valid-data.tsv\"\n",
        "\n",
        "train_dataset = pd.read_csv(train_dataset_path, sep=\"\\t\", header=None)\n",
        "test_dataset = pd.read_csv(test_dataset_path, sep=\"\\t\", header=None)\n",
        "\n",
        "# Preprocess the data\n",
        "train_messages = train_dataset[1].values\n",
        "train_labels = train_dataset[0].map({\"ham\": 0, \"spam\": 1}).values\n",
        "\n",
        "test_messages = test_dataset[1].values\n",
        "test_labels = test_dataset[0].map({\"ham\": 0, \"spam\": 1}).values\n",
        "\n",
        "# Tokenize and vectorize the messages\n",
        "tokenizer = tfds.deprecated.text.SubwordTextEncoder.build_from_corpus(\n",
        "    train_messages, target_vocab_size=2**13\n",
        ")\n",
        "\n",
        "\n",
        "train_messages_encoded = [tokenizer.encode(message) for message in train_messages]\n",
        "test_messages_encoded = [tokenizer.encode(message) for message in test_messages]\n",
        "\n",
        "# Pad sequences\n",
        "max_length = max(len(message) for message in train_messages_encoded)\n",
        "train_messages_padded = tf.keras.preprocessing.sequence.pad_sequences(train_messages_encoded, maxlen=max_length, padding=\"post\")\n",
        "test_messages_padded = tf.keras.preprocessing.sequence.pad_sequences(test_messages_encoded, maxlen=max_length, padding=\"post\")\n",
        "\n",
        "# Create the model\n",
        "model = tf.keras.Sequential([\n",
        "    tf.keras.layers.Embedding(tokenizer.vocab_size, 64),\n",
        "    tf.keras.layers.Bidirectional(tf.keras.layers.LSTM(64)),\n",
        "    tf.keras.layers.Dense(64, activation=\"relu\"),\n",
        "    tf.keras.layers.Dense(1, activation=\"sigmoid\")\n",
        "])\n",
        "\n",
        "# Compile the model\n",
        "model.compile(loss=tf.keras.losses.BinaryCrossentropy(), optimizer=tf.keras.optimizers.Adam(), metrics=[\"accuracy\"])\n",
        "\n",
        "# Train the model\n",
        "history = model.fit(train_messages_padded, train_labels, epochs=10, validation_data=(test_messages_padded, test_labels))\n",
        "\n",
        "# Function to predict messages based on the model\n",
        "def predict_message(pred_text):\n",
        "    pred_text_encoded = [tokenizer.encode(pred_text)]\n",
        "    pred_text_padded = tf.keras.preprocessing.sequence.pad_sequences(pred_text_encoded, maxlen=max_length, padding=\"post\")\n",
        "    prediction = model.predict(pred_text_padded)[0][0]\n",
        "    label = \"spam\" if prediction >= 0.5 else \"ham\"\n",
        "    return [prediction, label]"
      ]
    },
    {
      "cell_type": "code",
      "execution_count": null,
      "metadata": {
        "id": "Dxotov85SjsC"
      },
      "outputs": [],
      "source": [
        "# Run this cell to test your function and model. Do not modify contents.\n",
        "def test_predictions():\n",
        "  test_messages = [\"how are you doing today\",\n",
        "                   \"sale today! to stop texts call 98912460324\",\n",
        "                   \"i dont want to go. can we try it a different day? available sat\",\n",
        "                   \"our new mobile video service is live. just install on your phone to start watching.\",\n",
        "                   \"you have won £1000 cash! call to claim your prize.\",\n",
        "                   \"i'll bring it tomorrow. don't forget the milk.\",\n",
        "                   \"wow, is your arm alright. that happened to me one time too\"\n",
        "                  ]\n",
        "\n",
        "  test_answers = [\"ham\", \"spam\", \"ham\", \"spam\", \"spam\", \"ham\", \"ham\"]\n",
        "  passed = True\n",
        "\n",
        "  for msg, ans in zip(test_messages, test_answers):\n",
        "    prediction = predict_message(msg)\n",
        "    if prediction[1] != ans:\n",
        "      passed = False\n",
        "\n",
        "  if passed:\n",
        "    print(\"You passed the challenge. Great job!\")\n",
        "  else:\n",
        "    print(\"You haven't passed yet. Keep trying.\")\n",
        "\n",
        "test_predictions()"
      ]
    }
  ],
  "metadata": {
    "colab": {
      "private_outputs": true,
      "provenance": [],
      "include_colab_link": true
    },
    "kernelspec": {
      "display_name": "Python 3",
      "name": "python3"
    },
    "language_info": {}
  },
  "nbformat": 4,
  "nbformat_minor": 0
}